{
 "cells": [
  {
   "cell_type": "markdown",
   "metadata": {},
   "source": [
    "# Imports"
   ]
  },
  {
   "cell_type": "code",
   "execution_count": 2,
   "metadata": {},
   "outputs": [
    {
     "name": "stderr",
     "output_type": "stream",
     "text": [
      "c:\\Python312\\Lib\\site-packages\\tqdm\\auto.py:21: TqdmWarning: IProgress not found. Please update jupyter and ipywidgets. See https://ipywidgets.readthedocs.io/en/stable/user_install.html\n",
      "  from .autonotebook import tqdm as notebook_tqdm\n"
     ]
    }
   ],
   "source": [
    "import time\n",
    "import numpy as np\n",
    "import pandas as pd\n",
    "import seaborn as sb\n",
    "\n",
    "from sklearn.preprocessing import StandardScaler, LabelEncoder\n",
    "from sklearn.ensemble import RandomForestClassifier\n",
    "from sklearn.model_selection import train_test_split\n",
    "from sklearn.feature_selection import RFE\n",
    "\n",
    "from sklearn.model_selection import cross_val_score\n",
    "from sklearn.linear_model import LogisticRegression\n",
    "from sklearn.neighbors import KNeighborsClassifier\n",
    "from sklearn.tree import DecisionTreeClassifier\n",
    "from sklearn.metrics import confusion_matrix, classification_report, f1_score, accuracy_score, recall_score\n",
    "\n",
    "\n",
    "import itertools\n",
    "import optuna\n",
    "\n",
    "\n",
    "optuna.logging.set_verbosity(optuna.logging.WARNING)\n",
    " \n",
    "\n",
    "#import matplotlib.pyplot as plt\n",
    "#from pandas.api.types import is_numeric_dtype\n",
    "#import warnings\n",
    "#from sklearn import tree\n",
    "#from sklearn.neighbors import KNeighborsClassifier\n",
    "#from sklearn.linear_model import LogisticRegression\n",
    "#from sklearn.preprocessing import StandardScaler, LabelEncoder\n",
    "#from sklearn.tree  import DecisionTreeClassifier\n",
    "#from sklearn.ensemble import RandomForestClassifier, AdaBoostClassifier, VotingClassifier, GradientBoostingClassifier\n",
    "#from sklearn.svm import SVC, LinearSVC\n",
    "#from sklearn.naive_bayes import BernoulliNB\n",
    "#from lightgbm import LGBMClassifier\n",
    "#from xgboost import XGBClassifier\n",
    "#from tabulate import tabulate"
   ]
  },
  {
   "cell_type": "markdown",
   "metadata": {},
   "source": [
    "# Reading data"
   ]
  },
  {
   "cell_type": "code",
   "execution_count": 3,
   "metadata": {},
   "outputs": [
    {
     "name": "stdout",
     "output_type": "stream",
     "text": [
      "number of rows is: 25192\n",
      "number of cols is: 42\n"
     ]
    }
   ],
   "source": [
    "data = pd.read_csv('train_data.csv')\n",
    "test_data = pd.read_csv('test_data.csv')\n",
    "\n",
    "\n",
    "\n",
    "print(f\"number of rows is: {data.shape[0]}\")\n",
    "print(f\"number of cols is: {data.shape[1]}\")"
   ]
  },
  {
   "cell_type": "markdown",
   "metadata": {},
   "source": [
    "# Preprocessing"
   ]
  },
  {
   "cell_type": "code",
   "execution_count": 4,
   "metadata": {},
   "outputs": [
    {
     "name": "stdout",
     "output_type": "stream",
     "text": [
      "Number of null columns rows: 0\n",
      "Number of duplicate rows: 0\n"
     ]
    }
   ],
   "source": [
    "# cleaning data\n",
    "\n",
    "\n",
    "# check for null columns\n",
    "num_rows = data.shape[0]\n",
    "null_columns = [col for col in data.columns if data[col].isnull().sum() > 0]\n",
    "num_null_columns = len(null_columns)\n",
    "for col in null_columns:\n",
    "    null_count = data[col].isnull().sum()\n",
    "    null_percentage = (null_count/num_rows) * 100\n",
    "    print(f\"{col}: {null_count} ({round(null_percentage, 3)}%)\")\n",
    "\n",
    "\n",
    "# check for duplicate rows\n",
    "num_dups = data.duplicated().sum()\n",
    "print(f\"Number of null columns rows: {num_null_columns}\")\n",
    "print(f\"Number of duplicate rows: {num_dups}\")\n"
   ]
  },
  {
   "cell_type": "code",
   "execution_count": 5,
   "metadata": {},
   "outputs": [
    {
     "name": "stdout",
     "output_type": "stream",
     "text": [
      "droped number of cols is: 0\n"
     ]
    }
   ],
   "source": [
    "old_num_rows = num_rows\n",
    "\n",
    "\n",
    "# no need to do more preprocessing because the dataset is good\n",
    "# clean the data (rows with NaN values will be removed)\n",
    "data = data.dropna()\n",
    "data = data.dropna(axis=1)\n",
    "\n",
    "\n",
    "# clean the duplicates\n",
    "data.drop_duplicates(inplace=True)\n",
    "\n",
    "print(f\"droped number of cols is: {old_num_rows - data.shape[0]}\")"
   ]
  },
  {
   "cell_type": "code",
   "execution_count": 6,
   "metadata": {},
   "outputs": [
    {
     "data": {
      "text/plain": [
       "<Axes: xlabel='class', ylabel='count'>"
      ]
     },
     "execution_count": 6,
     "metadata": {},
     "output_type": "execute_result"
    },
    {
     "data": {
      "image/png": "[encoded data removed]",
      "text/plain": [
       "<Figure size 640x480 with 1 Axes>"
      ]
     },
     "metadata": {},
     "output_type": "display_data"
    }
   ],
   "source": [
    "sb.countplot(x=data['class'])"
   ]
  },
  {
   "cell_type": "markdown",
   "metadata": {},
   "source": [
    "# SMOTE oversampleing (optional)(because our data categories are closely matched)"
   ]
  },
  {
   "cell_type": "code",
   "execution_count": 7,
   "metadata": {},
   "outputs": [],
   "source": [
    "# not sure if i should do SMOTE oversampling (might test it later to see the diffrence in results)"
   ]
  },
  {
   "cell_type": "markdown",
   "metadata": {},
   "source": [
    "# Encoding the categorical variables (both data and test data)"
   ]
  },
  {
   "cell_type": "code",
   "execution_count": 8,
   "metadata": {},
   "outputs": [],
   "source": [
    "for col in data.columns:\n",
    "    if data[col].dtype == 'object':\n",
    "        le = LabelEncoder()\n",
    "        data[col] = le.fit_transform(data[col])\n",
    "\n",
    "for col in test_data.columns:\n",
    "    if test_data[col].dtype == 'object':\n",
    "        le = LabelEncoder()\n",
    "        test_data[col] = le.fit_transform(test_data[col])"
   ]
  },
  {
   "cell_type": "markdown",
   "metadata": {},
   "source": [
    "# Recursive Feature Elimination (selecting features to use)"
   ]
  },
  {
   "cell_type": "code",
   "execution_count": 9,
   "metadata": {},
   "outputs": [
    {
     "name": "stdout",
     "output_type": "stream",
     "text": [
      "selected features are:  ['protocol_type', 'service', 'flag', 'src_bytes', 'dst_bytes', 'count', 'same_srv_rate', 'diff_srv_rate', 'dst_host_srv_count', 'dst_host_same_srv_rate']\n"
     ]
    }
   ],
   "source": [
    "# find the top10 most usefull features\n",
    "x = data.drop(\"class\", axis=1)\n",
    "y = data[\"class\"]\n",
    "\n",
    "rfe = RFE(RandomForestClassifier(), n_features_to_select=10)\n",
    "rfe = rfe.fit(x, y)\n",
    "\n",
    "feature_map = [(i, v) for i, v in itertools.zip_longest(rfe.get_support(), x.columns)]\n",
    "selected_features = [v for i, v in feature_map if i==True]\n",
    "\n",
    "print(\"selected features are: \", selected_features)\n",
    "\n",
    "x = x[selected_features]"
   ]
  },
  {
   "cell_type": "markdown",
   "metadata": {},
   "source": [
    "# Standerization of feature data"
   ]
  },
  {
   "cell_type": "code",
   "execution_count": 10,
   "metadata": {},
   "outputs": [
    {
     "ename": "NameError",
     "evalue": "name 'test' is not defined",
     "output_type": "error",
     "traceback": [
      "\u001b[1;31m---------------------------------------------------------------------------\u001b[0m",
      "\u001b[1;31mNameError\u001b[0m                                 Traceback (most recent call last)",
      "Cell \u001b[1;32mIn[10], line 3\u001b[0m\n\u001b[0;32m      1\u001b[0m scale \u001b[38;5;241m=\u001b[39m StandardScaler()\n\u001b[0;32m      2\u001b[0m x \u001b[38;5;241m=\u001b[39m scale\u001b[38;5;241m.\u001b[39mfit_transform(x)\n\u001b[1;32m----> 3\u001b[0m test \u001b[38;5;241m=\u001b[39m scale\u001b[38;5;241m.\u001b[39mfit_transform(\u001b[43mtest\u001b[49m)\n",
      "\u001b[1;31mNameError\u001b[0m: name 'test' is not defined"
     ]
    }
   ],
   "source": [
    "scale = StandardScaler()\n",
    "x = scale.fit_transform(x)\n",
    "test = scale.fit_transform(test)"
   ]
  },
  {
   "cell_type": "markdown",
   "metadata": {},
   "source": [
    "# spliting training data"
   ]
  },
  {
   "cell_type": "code",
   "execution_count": null,
   "metadata": {},
   "outputs": [
    {
     "name": "stdout",
     "output_type": "stream",
     "text": [
      "old values:\n",
      "\t (25192, 10)\n",
      "\t (25192,)\n",
      "new training values:\n",
      "\t (20153, 10)\n",
      "\t (20153,)\n",
      "new testing values:\n",
      "\t (5039, 10)\n",
      "\t (5039,)\n"
     ]
    }
   ],
   "source": [
    "print(\"old values:\")\n",
    "print(\"\\t\", x.shape)\n",
    "print(\"\\t\", y.shape)\n",
    "\n",
    "# spliting training and testing data (80% training, 20% testing)\n",
    "x, x_test, y, y_test = train_test_split(x, y, train_size=0.80, random_state=2)\n",
    "\n",
    "print(\"new training values:\")\n",
    "print(\"\\t\", x.shape)\n",
    "print(\"\\t\", y.shape)\n",
    "\n",
    "print(\"new testing values:\")\n",
    "print(\"\\t\", x_test.shape)\n",
    "print(\"\\t\", y_test.shape)"
   ]
  },
  {
   "cell_type": "markdown",
   "metadata": {},
   "source": [
    "# Training"
   ]
  },
  {
   "cell_type": "markdown",
   "metadata": {},
   "source": [
    "## Logistic Regression algorithme"
   ]
  },
  {
   "cell_type": "code",
   "execution_count": null,
   "metadata": {},
   "outputs": [
    {
     "name": "stdout",
     "output_type": "stream",
     "text": [
      "WITHOUT optuna hyperparameter optimization\n",
      "\tTraining time:  0.028199434280395508\n",
      "\tTesting time:  0.0019948482513427734\n",
      "\ttraining score :  0.9294894060437652\n",
      "\ttesting  score :  0.9192300059535622\n",
      "#############################################\n",
      "#############################################\n",
      "#############################################\n",
      "#############################################\n",
      "WITH optuna hyperparameter optimization\n",
      "\tTrain Score: 0.9294894060437652\n",
      "\tTest Score: 0.9192300059535622\n"
     ]
    }
   ],
   "source": [
    "# KNeighborsClassifier(n_neighbors=26)\n",
    "# LogisticRegression(max_iter = 20000000)\n",
    "model = LogisticRegression(max_iter = 20000000)\n",
    "model = LogisticRegression(random_state = 42)\n",
    "\n",
    "print(\"WITHOUT optuna hyperparameter optimization\")\n",
    "start_time = time.time()\n",
    "model.fit(x, y)\n",
    "end_time = time.time()\n",
    "print(\"\\tTraining time: \", end_time-start_time)\n",
    "\n",
    "start_time = time.time()\n",
    "testing_predection = model.predict(x)\n",
    "end_time = time.time()\n",
    "print(\"\\tTesting time: \", end_time-start_time)\n",
    "\n",
    "\n",
    "lr_score = model.score(x, y)\n",
    "lr_test_score = model.score(x_test, y_test)\n",
    "\n",
    "\n",
    "lr_no_optuna_score= model.score(x, y)\n",
    "lr_no_optuna_test_score= model.score(x_test, y_test)\n",
    "\n",
    "print(\"\\ttraining score : \", lr_no_optuna_score)\n",
    "print(\"\\ttesting  score : \", lr_no_optuna_test_score)\n",
    "\n",
    "\n",
    "print(\"#############################################\")\n",
    "print(\"#############################################\")\n",
    "print(\"#############################################\")\n",
    "print(\"#############################################\")\n",
    "\n",
    "print(\"WITH optuna hyperparameter optimization\")\n",
    "\n",
    "def logistic_regression(trial):\n",
    "    lr_max_iter = trial.suggest_int('lr_max_iter', 100000, 20000000, log=False)\n",
    "    lr_random_states = trial.suggest_int('lr_random_states', 10, 50, log=False)\n",
    "    classifier_obj = LogisticRegression(max_iter = lr_max_iter, random_state = lr_random_states)\n",
    "    classifier_obj.fit(x, y)\n",
    "    accuracy = classifier_obj.score(x_test, y_test)\n",
    "    return accuracy\n",
    "    \n",
    "\n",
    "study_lr = optuna.create_study(direction='maximize')\n",
    "study_lr.optimize(logistic_regression, n_trials=30)\n",
    "\n",
    "\n",
    "lr = LogisticRegression(max_iter = study_lr.best_trial.params['lr_max_iter'], random_state = study_lr.best_trial.params['lr_random_states'])\n",
    "lr.fit(x, y)\n",
    "\n",
    "lr_score, lr_test_score = lr.score(x, y), lr.score(x_test, y_test)\n",
    "\n",
    "print(f\"\\tTrain Score: {lr_score}\")\n",
    "print(f\"\\tTest Score: {lr_test_score}\")\n"
   ]
  },
  {
   "cell_type": "markdown",
   "metadata": {},
   "source": [
    "## K Neighbors Classifier"
   ]
  },
  {
   "cell_type": "code",
   "execution_count": null,
   "metadata": {},
   "outputs": [
    {
     "name": "stdout",
     "output_type": "stream",
     "text": [
      "WITHOUT optuna hyperparameter optimization\n",
      "\tTraining time:  0.0590670108795166\n",
      "\tTesting time:  2.373859405517578\n",
      "\ttraining score :  0.9763806877387982\n",
      "\ttesting  score :  0.975590394919627\n",
      "####################################\n",
      "####################################\n",
      "WITH optuna hyperparameter optimization\n",
      "\tTrain Score: 0.981392348533717\n",
      "\tTest Score: 0.9781702718793411\n"
     ]
    }
   ],
   "source": [
    "model = KNeighborsClassifier(n_neighbors=26)\n",
    "start_time = time.time()\n",
    "model.fit(x, y.values.ravel())\n",
    "end_time = time.time()\n",
    "print(\"WITHOUT optuna hyperparameter optimization\")\n",
    "print(\"\\tTraining time: \", end_time-start_time)\n",
    "\n",
    "\n",
    "start_time = time.time()\n",
    "y_test_pred = model.predict(x)\n",
    "end_time = time.time()\n",
    "print(\"\\tTesting time: \", end_time-start_time)\n",
    "\n",
    "\n",
    "KNN_no_optuna_score= model.score(x, y)\n",
    "KNN_no_optuna_test_score= model.score(x_test, y_test)\n",
    "\n",
    "\n",
    "print(\"\\ttraining score : \", KNN_no_optuna_score)\n",
    "print(\"\\ttesting  score : \", KNN_no_optuna_test_score)\n",
    "\n",
    "print(\"####################################\")\n",
    "print(\"####################################\")\n",
    "\n",
    "print(\"WITH optuna hyperparameter optimization\")\n",
    "\n",
    "def knn_func(trial):\n",
    "    n_neighbors = trial.suggest_int('KNN_n_neighbors', 2, 16, log=False)\n",
    "    classifier_obj = KNeighborsClassifier(n_neighbors=n_neighbors)\n",
    "    classifier_obj.fit(x, y)\n",
    "    accuracy = classifier_obj.score(x_test, y_test)\n",
    "    return accuracy\n",
    "\n",
    "\n",
    "study_KNN = optuna.create_study(direction='maximize')\n",
    "study_KNN.optimize(knn_func, n_trials=1)\n",
    "\n",
    "\n",
    "KNN_model = KNeighborsClassifier(n_neighbors=study_KNN.best_trial.params['KNN_n_neighbors'])\n",
    "KNN_model.fit(x, y)\n",
    "\n",
    "KNN_train, KNN_test = KNN_model.score(x, y), KNN_model.score(x_test, y_test)\n",
    "\n",
    "print(f\"\\tTrain Score: {KNN_train}\")\n",
    "print(f\"\\tTest Score: {KNN_test}\")\n"
   ]
  },
  {
   "cell_type": "markdown",
   "metadata": {},
   "source": [
    "## Decision Tree Classifier"
   ]
  },
  {
   "cell_type": "code",
   "execution_count": null,
   "metadata": {},
   "outputs": [
    {
     "name": "stdout",
     "output_type": "stream",
     "text": [
      "\tTraining time:  0.02262735366821289\n",
      "\tTesting time:  0.001983642578125\n",
      "\ttraining score :  0.9803006996476952\n",
      "\ttesting  score :  0.977971819805517\n",
      "####################################\n",
      "####################################\n",
      "####################################\n",
      "####################################\n",
      "WITH optuna hyperparameter optimization\n",
      "\t FrozenTrial(number=1, state=1, values=[0.9962294105973407], datetime_start=datetime.datetime(2024, 5, 27, 18, 16, 58, 369199), datetime_complete=datetime.datetime(2024, 5, 27, 18, 16, 58, 397114), params={'dt_max_depth': 28, 'dt_max_features': 7}, user_attrs={}, system_attrs={}, intermediate_values={}, distributions={'dt_max_depth': IntDistribution(high=32, log=False, low=2, step=1), 'dt_max_features': IntDistribution(high=10, log=False, low=2, step=1)}, trial_id=1, value=None)\n",
      "\tTrain Score: 1.0\n",
      "\tTest Score: 0.9936495336376265\n"
     ]
    }
   ],
   "source": [
    "model = DecisionTreeClassifier(criterion =\"entropy\", max_depth = 4)\n",
    "start_time = time.time()\n",
    "model.fit(x, y.values.ravel())\n",
    "end_time = time.time()\n",
    "print(\"\\tTraining time: \", end_time-start_time)\n",
    "\n",
    "\n",
    "start_time = time.time()\n",
    "y_test_pred = model.predict(x)\n",
    "end_time = time.time()\n",
    "print(\"\\tTesting time: \", end_time-start_time)\n",
    "\n",
    "\n",
    "dt_no_optuna_score= model.score(x, y)\n",
    "dt_no_optuna_test_score= model.score(x_test, y_test)\n",
    "\n",
    "print(\"\\ttraining score : \", dt_no_optuna_score)\n",
    "print(\"\\ttesting  score : \", dt_no_optuna_test_score)\n",
    "\n",
    "print(\"####################################\")\n",
    "print(\"####################################\")\n",
    "print(\"####################################\")\n",
    "print(\"####################################\")\n",
    "\n",
    "print(\"WITH optuna hyperparameter optimization\")\n",
    "def tree_search(trial):\n",
    "    dt_max_depth = trial.suggest_int('dt_max_depth', 2, 32, log=False)\n",
    "    dt_max_features = trial.suggest_int('dt_max_features', 2, 10, log=False)\n",
    "    classifier_obj = DecisionTreeClassifier(max_features = dt_max_features, max_depth = dt_max_depth)\n",
    "    classifier_obj.fit(x, y)\n",
    "    accuracy = classifier_obj.score(x_test, y_test)\n",
    "    return accuracy\n",
    "    \n",
    "\n",
    "study_dt = optuna.create_study(direction='maximize')\n",
    "study_dt.optimize(tree_search, n_trials=30)\n",
    "print(\"\\t\", study_dt.best_trial)\n",
    "\n",
    "\n",
    "dt = DecisionTreeClassifier(max_features = study_dt.best_trial.params['dt_max_features'], max_depth = study_dt.best_trial.params['dt_max_depth'])\n",
    "dt.fit(x, y)\n",
    "\n",
    "dt_score, dt_test_score = dt.score(x, y), dt.score(x_test, y_test)\n",
    "\n",
    "print(f\"\\tTrain Score: {dt_score}\")\n",
    "print(f\"\\tTest Score: {dt_test_score}\")"
   ]
  },
  {
   "cell_type": "markdown",
   "metadata": {},
   "source": [
    "# Comparison"
   ]
  },
  {
   "cell_type": "code",
   "execution_count": null,
   "metadata": {},
   "outputs": [
    {
     "name": "stdout",
     "output_type": "stream",
     "text": [
      "table of LogisticRegression training\n",
      "╒═══════════════════════════════╤═══════════════╤══════════════╕\n",
      "│ Model                         │   Train Score │   Test Score │\n",
      "╞═══════════════════════════════╪═══════════════╪══════════════╡\n",
      "│ Logistic Regression no optuna │      0.929489 │      0.91923 │\n",
      "├───────────────────────────────┼───────────────┼──────────────┤\n",
      "│ Logistic Regression           │      0.929489 │      0.91923 │\n",
      "╘═══════════════════════════════╧═══════════════╧══════════════╛\n",
      "table of KNeighborsClassifier training\n",
      "╒═══════════════╤═══════════════╤══════════════╕\n",
      "│ Model         │   Train Score │   Test Score │\n",
      "╞═══════════════╪═══════════════╪══════════════╡\n",
      "│ KNN no optuna │      0.976381 │      0.97559 │\n",
      "├───────────────┼───────────────┼──────────────┤\n",
      "│ KNN           │      0.981392 │      0.97817 │\n",
      "╘═══════════════╧═══════════════╧══════════════╛\n",
      "table of DecisionTreeClassifier training\n",
      "╒═════════════════════════╤═══════════════╤══════════════╕\n",
      "│ Model                   │   Train Score │   Test Score │\n",
      "╞═════════════════════════╪═══════════════╪══════════════╡\n",
      "│ Decision Tree no optuna │      0.980301 │     0.977972 │\n",
      "├─────────────────────────┼───────────────┼──────────────┤\n",
      "│ Decision Tree           │      1        │     0.99365  │\n",
      "╘═════════════════════════╧═══════════════╧══════════════╛\n"
     ]
    }
   ],
   "source": [
    "from tabulate import tabulate\n",
    "\n",
    "data1 = [\n",
    "        [\"Logistic Regression no optuna\", lr_no_optuna_score, lr_no_optuna_test_score],\n",
    "        [\"Logistic Regression\", lr_score, lr_test_score]\n",
    "        ]\n",
    "data2 = [\n",
    "        [\"KNN no optuna\", KNN_no_optuna_score, KNN_no_optuna_test_score], \n",
    "        [\"KNN\", KNN_train, KNN_test]\n",
    "        ]\n",
    "data3 = [\n",
    "        [\"Decision Tree no optuna\", dt_no_optuna_score, dt_no_optuna_test_score],\n",
    "        [\"Decision Tree\", dt_score, dt_test_score]\n",
    "]\n",
    "\n",
    "\n",
    "col_names = [\"Model\", \"Train Score\", \"Test Score\"]\n",
    "print(\"table of LogisticRegression training\")\n",
    "print(tabulate(data1, headers=col_names, tablefmt=\"fancy_grid\"))\n",
    "print(\"table of KNeighborsClassifier training\")\n",
    "print(tabulate(data2, headers=col_names, tablefmt=\"fancy_grid\"))\n",
    "print(\"table of DecisionTreeClassifier training\")\n",
    "print(tabulate(data3, headers=col_names, tablefmt=\"fancy_grid\"))"
   ]
  },
  {
   "cell_type": "markdown",
   "metadata": {},
   "source": [
    "## Calculating Precesion and recall scores"
   ]
  },
  {
   "cell_type": "code",
   "execution_count": null,
   "metadata": {},
   "outputs": [
    {
     "name": "stdout",
     "output_type": "stream",
     "text": [
      "scoring  KNeighborsClassifier . . . .\n",
      "scoring  LogisticRegression . . . .\n",
      "scoring  DecisionTreeClassifier . . . .\n",
      "\n",
      "#############################################\n",
      "KNeighborsClassifier Model Validation\n",
      "\n",
      "\tMean precision: \n",
      "\t 98.52531 % +- 0.20149\n",
      "\tMean recall: \n",
      "\t 98.24068 % +- 0.32121\n",
      "\n",
      "#############################################\n",
      "LogisticRegression Model Validation\n",
      "\n",
      "\tMean precision: \n",
      "\t 91.389 % +- 0.60277\n",
      "\tMean recall: \n",
      "\t 95.76467 % +- 0.63871\n",
      "\n",
      "#############################################\n",
      "DecisionTreeClassifier Model Validation\n",
      "\n",
      "\tMean precision: \n",
      "\t 99.54441 % +- 0.18276\n",
      "\tMean recall: \n",
      "\t 99.58114 % +- 0.22127\n"
     ]
    },
    {
     "data": {
      "text/plain": [
       "<Axes: >"
      ]
     },
     "execution_count": 111,
     "metadata": {},
     "output_type": "execute_result"
    },
    {
     "data": {
      "image/png": "[encoded data removed]",
      "text/plain": [
       "<Figure size 2400x600 with 1 Axes>"
      ]
     },
     "metadata": {},
     "output_type": "display_data"
    }
   ],
   "source": [
    "models = {'KNeighborsClassifier': KNeighborsClassifier(), \n",
    "          'LogisticRegression': LogisticRegression(), \n",
    "          'DecisionTreeClassifier': DecisionTreeClassifier()}\n",
    "\n",
    "\n",
    "# calculating precesion and recall score\n",
    "scores = {}\n",
    "for m in models:\n",
    "    print(\"scoring \", m, \". . . .\")\n",
    "    scores[m]={}\n",
    "    for scorer in ['precision','recall']:\n",
    "        scores[m][scorer] = cross_val_score(models[m], x, y, cv=10, scoring=scorer)\n",
    "\n",
    "\n",
    "# calculating precesion and recall mean\n",
    "import sys\n",
    "for m in models:\n",
    "    print(\"\\n#############################################\")\n",
    "    print(m, 'Model Validation\\n')\n",
    "    for scorer in ['precision','recall']:\n",
    "        mean = round(np.mean(scores[m][scorer])*100,5)\n",
    "        stdev = round(np.std(scores[m][scorer])*100,5)\n",
    "        print (\"\\tMean {}:\".format(scorer),\"\\n\\t\", mean,\"%\", \"+-\",stdev)\n",
    "\n",
    "\n",
    "# Compaing precesion and recall scores (plot)\n",
    "for m in models:\n",
    "    for scorer in ['precision','recall']:\n",
    "        scores[m][scorer] = scores[m][scorer].mean()\n",
    "scores=pd.DataFrame(scores).transpose()*100\n",
    "scores.plot(kind = \"bar\",  ylim=[80,100], figsize=(24,6), rot=0)"
   ]
  },
  {
   "cell_type": "markdown",
   "metadata": {},
   "source": [
    "## Validation"
   ]
  },
  {
   "cell_type": "code",
   "execution_count": null,
   "metadata": {},
   "outputs": [
    {
     "name": "stdout",
     "output_type": "stream",
     "text": [
      "Predictions complete.\n",
      "\n",
      "#############################################\n",
      "\n",
      " KNeighborsClassifier Model Testing\n",
      "[[2291   42]\n",
      " [  42 2664]]\n",
      "\n",
      "--------------------------------------------\n",
      "              precision    recall  f1-score   support\n",
      "\n",
      "      normal       0.98      0.98      0.98      2333\n",
      "     anamoly       0.98      0.98      0.98      2706\n",
      "\n",
      "    accuracy                           0.98      5039\n",
      "   macro avg       0.98      0.98      0.98      5039\n",
      "weighted avg       0.98      0.98      0.98      5039\n",
      "\n",
      "\n",
      "#############################################\n",
      "\n",
      " LogisticRegression Model Testing\n",
      "[[2070  263]\n",
      " [ 144 2562]]\n",
      "\n",
      "--------------------------------------------\n",
      "              precision    recall  f1-score   support\n",
      "\n",
      "      normal       0.93      0.89      0.91      2333\n",
      "     anamoly       0.91      0.95      0.93      2706\n",
      "\n",
      "    accuracy                           0.92      5039\n",
      "   macro avg       0.92      0.92      0.92      5039\n",
      "weighted avg       0.92      0.92      0.92      5039\n",
      "\n",
      "\n",
      "#############################################\n",
      "\n",
      " DecisionTreeClassifier Model Testing\n",
      "[[2327    6]\n",
      " [  20 2686]]\n",
      "\n",
      "--------------------------------------------\n",
      "              precision    recall  f1-score   support\n",
      "\n",
      "      normal       0.99      1.00      0.99      2333\n",
      "     anamoly       1.00      0.99      1.00      2706\n",
      "\n",
      "    accuracy                           0.99      5039\n",
      "   macro avg       0.99      1.00      0.99      5039\n",
      "weighted avg       0.99      0.99      0.99      5039\n",
      "\n"
     ]
    }
   ],
   "source": [
    "models = {'KNeighborsClassifier': KNeighborsClassifier(), \n",
    "          'LogisticRegression': LogisticRegression(), \n",
    "          'DecisionTreeClassifier': DecisionTreeClassifier()}\n",
    "\n",
    "\n",
    "\n",
    "preds={}\n",
    "for name in models:\n",
    "    models[name].fit(x, y)\n",
    "    preds[name] = models[name].predict(x_test)\n",
    "print(\"Predictions complete.\")\n",
    "\n",
    "\n",
    "\n",
    "\n",
    "target_names=[\"normal\",\"anamoly\"]\n",
    "for name in models:\n",
    "    print(\"\\n#############################################\")\n",
    "    print(\"\\n\", name, 'Model Testing')\n",
    "    print(confusion_matrix(y_test, preds[name]))\n",
    "    print(\"\\n--------------------------------------------\")\n",
    "    print(classification_report(y_test, preds[name], target_names=target_names))\n"
   ]
  },
  {
   "cell_type": "markdown",
   "metadata": {},
   "source": [
    "# plots"
   ]
  },
  {
   "cell_type": "code",
   "execution_count": null,
   "metadata": {},
   "outputs": [
    {
     "data": {
      "text/plain": [
       "<Axes: >"
      ]
     },
     "execution_count": 113,
     "metadata": {},
     "output_type": "execute_result"
    },
    {
     "data": {
      "image/png": "[encoded data removed]",
      "text/plain": [
       "<Figure size 1000x600 with 1 Axes>"
      ]
     },
     "metadata": {},
     "output_type": "display_data"
    }
   ],
   "source": [
    "f1s = {}\n",
    "for name in models:\n",
    "    f1s[name]= [f1_score(y_test, preds[name]), accuracy_score(y_test, preds[name]), recall_score(y_test, preds[name])]\n",
    "f1s1=pd.DataFrame(f1s.values(),index=f1s.keys(),columns=[\"F1-score\", \"accuracy-score\", \"recall-score\"])*100\n",
    "f1s1.plot(kind = \"bar\",  ylim=[80,100], figsize=(10,6), rot=0)"
   ]
  }
 ],
 "metadata": {
  "kernelspec": {
   "display_name": "Python 3",
   "language": "python",
   "name": "python3"
  },
  "language_info": {
   "codemirror_mode": {
    "name": "ipython",
    "version": 3
   },
   "file_extension": ".py",
   "mimetype": "text/x-python",
   "name": "python",
   "nbconvert_exporter": "python",
   "pygments_lexer": "ipython3",
   "version": "3.12.3"
  }
 },
 "nbformat": 4,
 "nbformat_minor": 2
}
